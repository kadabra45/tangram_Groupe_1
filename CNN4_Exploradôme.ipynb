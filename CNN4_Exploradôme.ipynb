{
  "nbformat": 4,
  "nbformat_minor": 0,
  "metadata": {
    "colab": {
      "name": "Copie de CNN4_Exploradôme",
      "provenance": [],
      "collapsed_sections": []
    },
    "kernelspec": {
      "name": "python3",
      "display_name": "Python 3"
    },
    "accelerator": "TPU"
  },
  "cells": [
    {
      "cell_type": "code",
      "metadata": {
        "id": "sqwbrpBhQVa7",
        "colab_type": "code",
        "colab": {
          "base_uri": "https://localhost:8080/",
          "height": 35
        },
        "outputId": "767d3db9-67e9-4c07-ac0a-63127619f4f1"
      },
      "source": [
        "from google.colab import drive\n",
        "drive.mount('/content/drive')"
      ],
      "execution_count": 1,
      "outputs": [
        {
          "output_type": "stream",
          "text": [
            "Mounted at /content/drive\n"
          ],
          "name": "stdout"
        }
      ]
    },
    {
      "cell_type": "code",
      "metadata": {
        "id": "2Wr49_A0Ggvl",
        "colab_type": "code",
        "colab": {
          "base_uri": "https://localhost:8080/",
          "height": 35
        },
        "outputId": "3ee5f22b-dbce-4474-be62-149696a2994a"
      },
      "source": [
        "'''\n",
        "Code pour découper les images en paquets avant preprocessing de façon à réaliser \n",
        "le preprocessing sur chaque paquet pour éviter de surcharger la RAM de COlab\n",
        "'''\n",
        "\n",
        "import os\n",
        "import shutil\n",
        "path=\"/content/drive/My Drive/DATASET FINAL/images_finales/train/\"\n",
        "dossiers=os.listdir(path)\n",
        "liste=[]\n",
        "nom=\"0\"\n",
        "for j in dossiers:\n",
        "  photos=os.listdir(path+j)\n",
        "  path2=path+j\n",
        "  nom=int(nom)\n",
        "  nom+=1\n",
        "  os.mkdir(path2+'/'+str(nom))"
      ],
      "execution_count": 9,
      "outputs": [
        {
          "output_type": "execute_result",
          "data": {
            "application/vnd.google.colaboratory.intrinsic+json": {
              "type": "string"
            },
            "text/plain": [
              "'\\nfor p in photos:\\n  liste.append(p)\\n\\nprint(liste)\\n'"
            ]
          },
          "metadata": {
            "tags": []
          },
          "execution_count": 9
        }
      ]
    },
    {
      "cell_type": "code",
      "metadata": {
        "id": "epTKDw7Kuh2Y",
        "colab_type": "code",
        "colab": {}
      },
      "source": [
        ""
      ],
      "execution_count": null,
      "outputs": []
    },
    {
      "cell_type": "code",
      "metadata": {
        "id": "cV9u0C3ct0gZ",
        "colab_type": "code",
        "colab": {}
      },
      "source": [
        "#Preprocessing image du dossier train avant modèle. Le code a planté par manque de ressources sur le Drive.\n",
        "import os\n",
        "from tensorflow import keras\n",
        "from keras.preprocessing.image import img_to_array, load_img\n",
        "import time\n",
        "\n",
        "dossiers=os.listdir(\"/content/drive/My Drive/DATASET FINAL/images_finales/train/\")\n",
        "path=\"/content/drive/My Drive/DATASET FINAL/images_finales/train/\"\n",
        "c=0\n",
        "train_image=[]\n",
        "for i in dossiers:\n",
        "  path2=path+i\n",
        "  images=os.listdir(path2)\n",
        "  \n",
        "  for j in images:\n",
        "    image_path=path2+'/'+j\n",
        "    long=9668\n",
        "    image = load_img(image_path)\n",
        "    array = img_to_array(image)\n",
        "    array=array/255\n",
        "    train_image.append(array)\n",
        "    c+=1\n",
        "    #time.sleep(3)\n",
        "    print((c/long)*100,\": Taux d'avancement\")"
      ],
      "execution_count": null,
      "outputs": []
    },
    {
      "cell_type": "code",
      "metadata": {
        "id": "Id-kbMI8thjL",
        "colab_type": "code",
        "colab": {}
      },
      "source": [
        "#Preprocessing image de test avant modèle. Le code a planté par manque de ressources sur le Drive.\n",
        "\n",
        "from tensorflow import keras\n",
        "from keras.preprocessing.image import img_to_array, load_img\n",
        "import os\n",
        "dossiers=os.listdir(\"/content/drive/My Drive/DATASET FINAL/images_finales/test/\")\n",
        "path=\"/content/drive/My Drive/DATASET FINAL/images_finales/test/\"\n",
        "c=0\n",
        "test_image=[]\n",
        "for i in dossiers:\n",
        "  path2=path+i\n",
        "  images=os.listdir(path2)\n",
        "  for j in images:\n",
        "    image_path=path2+'/'+j\n",
        "    long=4122\n",
        "    image = load_img(image_path)\n",
        "    array = img_to_array(image)\n",
        "    array=array/255\n",
        "    test_image.append(array)\n",
        "    c+=1\n",
        "    print((c/long)*100,\": Taux d'avancement\")"
      ],
      "execution_count": null,
      "outputs": []
    },
    {
      "cell_type": "code",
      "metadata": {
        "id": "eTHbY7vUSg7b",
        "colab_type": "code",
        "colab": {}
      },
      "source": [
        "#CNN4 à tester avant et après Data Augmentation\n",
        "CNN4 = keras.Sequential()\n",
        "CNN4.add(keras.layers.Conv2D(32, kernel_size=(3,3), activation='relu', strides=(1,1)))\n",
        "CNN4.add(keras.layers.MaxPooling2D(2,2))\n",
        "CNN4.add(keras.layers.Conv2D(32, kernel_size=(3,3), activation='relu', strides=(1,1)))\n",
        "CNN4.add(keras.layers.MaxPooling2D(2,2))\n",
        "CNN4.add(keras.layers.Dropout(0.25))\n",
        "CNN4.add(keras.layers.Flatten())\n",
        "CNN4.add(keras.layers.Dense(64, activation='relu'))\n",
        "CNN4.add(keras.layers.Dense(12, activation='softmax'))\n",
        "\n",
        "\n",
        "CNN4.compile(optimizer=keras.optimizers.Adam(lr=1e-3), loss='categorical_crossentropy',metrics = 'accuracy')\n",
        " \n",
        "CNN4.fit(x_rain, validation_ds, epochs=10, batch_size=100)\n",
        "\n",
        "\n",
        "print(\"Test evaluation\")\n",
        "CNN4.evaluate(x_test, y_test)"
      ],
      "execution_count": null,
      "outputs": []
    }
  ]
}
