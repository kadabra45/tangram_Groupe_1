{
  "nbformat": 4,
  "nbformat_minor": 0,
  "metadata": {
    "accelerator": "GPU",
    "colab": {
      "name": "programme_pour_le_test_et_train.ipynb",
      "provenance": [],
      "collapsed_sections": []
    },
    "kernelspec": {
      "display_name": "Python 3",
      "language": "python",
      "name": "python3"
    },
    "language_info": {
      "codemirror_mode": {
        "name": "ipython",
        "version": 3
      },
      "file_extension": ".py",
      "mimetype": "text/x-python",
      "name": "python",
      "nbconvert_exporter": "python",
      "pygments_lexer": "ipython3",
      "version": "3.7.6"
    }
  },
  "cells": [
    {
      "cell_type": "code",
      "metadata": {
        "colab_type": "code",
        "id": "AXKbczhUAoZE",
        "colab": {}
      },
      "source": [
        "import json #create the json\n",
        "import shutil #copy images to train, test and valid dirs\n",
        "import os #files and dirs manipulation\n",
        "import math #split calculate"
      ],
      "execution_count": null,
      "outputs": []
    },
    {
      "cell_type": "code",
      "metadata": {
        "colab_type": "code",
        "id": "C1EJJlwxjWB-",
        "colab": {
          "base_uri": "https://localhost:8080/",
          "height": 131
        },
        "outputId": "30a33766-1161-46a5-d780-3040dd13c044"
      },
      "source": [
        "from google.colab import drive\n",
        "drive.mount('/content/drive')"
      ],
      "execution_count": null,
      "outputs": [
        {
          "output_type": "stream",
          "text": [
            "Go to this URL in a browser: https://accounts.google.com/o/oauth2/auth?client_id=947318989803-6bn6qk8qdgf4n4g3pfee6491hc0brc4i.apps.googleusercontent.com&redirect_uri=urn%3aietf%3awg%3aoauth%3a2.0%3aoob&scope=email%20https%3a%2f%2fwww.googleapis.com%2fauth%2fdocs.test%20https%3a%2f%2fwww.googleapis.com%2fauth%2fdrive%20https%3a%2f%2fwww.googleapis.com%2fauth%2fdrive.photos.readonly%20https%3a%2f%2fwww.googleapis.com%2fauth%2fpeopleapi.readonly&response_type=code\n",
            "\n",
            "Enter your authorization code:\n",
            "··········\n",
            "Mounted at /content/drive\n"
          ],
          "name": "stdout"
        }
      ]
    },
    {
      "cell_type": "code",
      "metadata": {
        "colab_type": "code",
        "id": "Uke0F1YDCcl-",
        "colab": {
          "base_uri": "https://localhost:8080/",
          "height": 54
        },
        "outputId": "0cba4f25-4a36-4dcb-fada-36328976fe52"
      },
      "source": [
        "!ls \"/content/drive/My Drive/Marc - NE PAS SUPPRIMER/Dataset_exploradomme-20200903T143013Z-001 (1)/Dataset_exploradomme/\""
      ],
      "execution_count": null,
      "outputs": [
        {
          "output_type": "stream",
          "text": [
            "Bateau\tChat   Cygne  Maison   Montagne  Renard\n",
            "Bol\tCoeur  Lapin  Marteau  Pont\t Tortue\n"
          ],
          "name": "stdout"
        }
      ]
    },
    {
      "cell_type": "code",
      "metadata": {
        "id": "AXgxRsovNBaa",
        "colab_type": "code",
        "colab": {}
      },
      "source": [
        "parent_dir1=\"/content/drive/My Drive/DATASET FINAL/images_finales\"\n",
        "parent_dir2=\"/content/drive/My Drive/DATASET FINAL/images nettoyées et labelisées (bis)\""
      ],
      "execution_count": null,
      "outputs": []
    },
    {
      "cell_type": "code",
      "metadata": {
        "colab_type": "code",
        "id": "SiKzaiKzA4mk",
        "colab": {
          "base_uri": "https://localhost:8080/",
          "height": 279
        },
        "outputId": "74fe0597-aed1-4f18-db54-18598c7f7d13"
      },
      "source": [
        "#path configuration\n",
        "parent_dir = parent_dir2 #get category folder list\n",
        "os.chdir(parent_dir)\n",
        "category_list = list(filter(lambda x: os.path.isdir(x), os.listdir()))\n",
        "for category in category_list:\n",
        "  print(category)"
      ],
      "execution_count": null,
      "outputs": [
        {
          "output_type": "stream",
          "text": [
            "maison\n",
            "cygne\n",
            "chat\n",
            "pont\n",
            "tortue\n",
            "montagne\n",
            "bol\n",
            "lapin\n",
            "renard\n",
            "marteau\n",
            "coeur\n",
            "models\n",
            "bateau\n",
            ".ipynb_checkpoints\n"
          ],
          "name": "stdout"
        }
      ]
    },
    {
      "cell_type": "code",
      "metadata": {
        "colab_type": "code",
        "id": "D_xY_jZMFrf9",
        "colab": {}
      },
      "source": [
        "#create training and testing directories\n",
        "data_set_dirs= ['train','valid','test']\n",
        "parent_dir4=\"/content/drive/My Drive/Marc - NE PAS SUPPRIMER/dataset_images/images_final_2\"\n",
        "for dsdirs in data_set_dirs:\n",
        "  path = parent_dir4 + '/'+ dsdirs\n",
        "  os.mkdir( path,755 )"
      ],
      "execution_count": null,
      "outputs": []
    },
    {
      "cell_type": "code",
      "metadata": {
        "colab_type": "code",
        "id": "IMmoJpkHGOBT",
        "colab": {}
      },
      "source": [
        "#define proportion of data : 30% of validation test here.\n",
        "train_prop = 0.7\n",
        "test_prop = 1-train_prop #function to split data of each category into trainning and testing set\n",
        "def create_dataset():\n",
        "  for ii,cat in enumerate(category_list):    \n",
        "    src_path = parent_dir +'/' + cat\n",
        "    dest_dir1 = parent_dir4+'/train/'+str(ii)\n",
        "    dest_dir2 = parent_dir4+'/test/'+str(ii)\n",
        "    \n",
        "    dest_dirs_list = [dest_dir1,dest_dir2]\n",
        "    for dirs in dest_dirs_list:\n",
        "      os.mkdir(dirs,755 )\n",
        "    \n",
        "    #get files' names list from respective directories\n",
        "    os.chdir(src_path)\n",
        "    files = [f for f in os.listdir() if os.path.isfile(f)]\n",
        "    \n",
        "    #get training, testing and validation files count\n",
        "    train_count = math.ceil(train_prop*len(files))\n",
        "    test_count = valid_count\n",
        "    \n",
        "    #get files to segragate for train,test and validation data set\n",
        "    train_data_list = files[0: train_count] \n",
        "    test_data_list =  files[train_count+1:]\n",
        "       \n",
        "  \n",
        "    for train_data in train_data_list:\n",
        "      train_path = src_path + '/' + train_data\n",
        "      shutil.copy(train_path,dest_dir1)\n",
        "    \n",
        "    for test_data in valid_data_list:\n",
        "      valid_path = src_path + '/' + valid_data\n",
        "      shutil.copy(valid_path,dest_dir2)"
      ],
      "execution_count": null,
      "outputs": []
    },
    {
      "cell_type": "code",
      "metadata": {
        "colab_type": "code",
        "id": "M9RrDf7ROEPm",
        "colab": {}
      },
      "source": [
        "#Lancement du split du dataset \n",
        "create_dataset()"
      ],
      "execution_count": null,
      "outputs": []
    },
    {
      "cell_type": "code",
      "metadata": {
        "id": "NgbIDfgdV6n-",
        "colab_type": "code",
        "colab": {}
      },
      "source": [
        ""
      ],
      "execution_count": null,
      "outputs": []
    },
    {
      "cell_type": "code",
      "metadata": {
        "id": "TPxM9nGcV0B4",
        "colab_type": "code",
        "colab": {}
      },
      "source": [
        ""
      ],
      "execution_count": null,
      "outputs": []
    }
  ]
}